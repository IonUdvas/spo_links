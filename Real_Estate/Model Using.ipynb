{
 "cells": [
  {
   "cell_type": "markdown",
   "id": "5a92a9b9",
   "metadata": {},
   "source": [
    "## Using the Model"
   ]
  },
  {
   "cell_type": "code",
   "execution_count": 1,
   "id": "217e11e7",
   "metadata": {},
   "outputs": [],
   "source": [
    "from joblib import dump, load\n",
    "import numpy as np\n",
    "model = load('ML.joblib')"
   ]
  },
  {
   "cell_type": "markdown",
   "id": "f657e08b",
   "metadata": {},
   "source": [
    "Enter the data as a 2-D array of 13 columns with each record on 1 row"
   ]
  },
  {
   "cell_type": "code",
   "execution_count": 2,
   "id": "16b54a37",
   "metadata": {},
   "outputs": [],
   "source": [
    "features = np.array([[ 0.44669285, -0.47208881,  0.99170413, -0.27288841,  0.25503379,\n",
    "         5.21556492,  0.17802152, -0.734384  ,  1.67495161,  1.53116228,\n",
    "         0.80120112, -2.91278062, -0.09755874]])"
   ]
  },
  {
   "cell_type": "code",
   "execution_count": 3,
   "id": "62ff30a7",
   "metadata": {},
   "outputs": [
    {
     "data": {
      "text/plain": [
       "array([28.212])"
      ]
     },
     "execution_count": 3,
     "metadata": {},
     "output_type": "execute_result"
    }
   ],
   "source": [
    "model.predict(features)"
   ]
  }
 ],
 "metadata": {
  "kernelspec": {
   "display_name": "Python 3 (ipykernel)",
   "language": "python",
   "name": "python3"
  },
  "language_info": {
   "codemirror_mode": {
    "name": "ipython",
    "version": 3
   },
   "file_extension": ".py",
   "mimetype": "text/x-python",
   "name": "python",
   "nbconvert_exporter": "python",
   "pygments_lexer": "ipython3",
   "version": "3.9.10"
  }
 },
 "nbformat": 4,
 "nbformat_minor": 5
}
