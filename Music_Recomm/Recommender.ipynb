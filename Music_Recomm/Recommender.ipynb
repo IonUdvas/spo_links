{
 "cells": [
  {
   "cell_type": "code",
   "execution_count": 1,
   "id": "b44b1abd",
   "metadata": {},
   "outputs": [],
   "source": [
    "import numpy as np\n",
    "import pandas as pd\n",
    "import matplotlib.pyplot as plt\n",
    "import seaborn as sns\n",
    "import spotipy\n",
    "import os\n",
    "%matplotlib inline"
   ]
  },
  {
   "cell_type": "code",
   "execution_count": 2,
   "id": "53a743ca",
   "metadata": {},
   "outputs": [],
   "source": [
    "tracks_data = pd.read_csv('./archive/tracks.csv')\n",
    "artists_data = pd.read_csv('./archive/artists.csv')"
   ]
  },
  {
   "cell_type": "code",
   "execution_count": 3,
   "id": "c88bd35c",
   "metadata": {},
   "outputs": [
    {
     "name": "stdout",
     "output_type": "stream",
     "text": [
      "<class 'pandas.core.frame.DataFrame'>\n",
      "RangeIndex: 586672 entries, 0 to 586671\n",
      "Data columns (total 20 columns):\n",
      " #   Column            Non-Null Count   Dtype  \n",
      "---  ------            --------------   -----  \n",
      " 0   id                586672 non-null  object \n",
      " 1   name              586601 non-null  object \n",
      " 2   popularity        586672 non-null  int64  \n",
      " 3   duration_ms       586672 non-null  int64  \n",
      " 4   explicit          586672 non-null  int64  \n",
      " 5   artists           586672 non-null  object \n",
      " 6   id_artists        586672 non-null  object \n",
      " 7   release_date      586672 non-null  object \n",
      " 8   danceability      586672 non-null  float64\n",
      " 9   energy            586672 non-null  float64\n",
      " 10  key               586672 non-null  int64  \n",
      " 11  loudness          586672 non-null  float64\n",
      " 12  mode              586672 non-null  int64  \n",
      " 13  speechiness       586672 non-null  float64\n",
      " 14  acousticness      586672 non-null  float64\n",
      " 15  instrumentalness  586672 non-null  float64\n",
      " 16  liveness          586672 non-null  float64\n",
      " 17  valence           586672 non-null  float64\n",
      " 18  tempo             586672 non-null  float64\n",
      " 19  time_signature    586672 non-null  int64  \n",
      "dtypes: float64(9), int64(6), object(5)\n",
      "memory usage: 89.5+ MB\n"
     ]
    }
   ],
   "source": [
    "tracks_data.info()"
   ]
  },
  {
   "cell_type": "code",
   "execution_count": 4,
   "id": "218cecd4",
   "metadata": {},
   "outputs": [
    {
     "data": {
      "text/html": [
       "<div>\n",
       "<style scoped>\n",
       "    .dataframe tbody tr th:only-of-type {\n",
       "        vertical-align: middle;\n",
       "    }\n",
       "\n",
       "    .dataframe tbody tr th {\n",
       "        vertical-align: top;\n",
       "    }\n",
       "\n",
       "    .dataframe thead th {\n",
       "        text-align: right;\n",
       "    }\n",
       "</style>\n",
       "<table border=\"1\" class=\"dataframe\">\n",
       "  <thead>\n",
       "    <tr style=\"text-align: right;\">\n",
       "      <th></th>\n",
       "      <th>popularity</th>\n",
       "      <th>duration_ms</th>\n",
       "      <th>explicit</th>\n",
       "      <th>danceability</th>\n",
       "      <th>energy</th>\n",
       "      <th>key</th>\n",
       "      <th>loudness</th>\n",
       "      <th>mode</th>\n",
       "      <th>speechiness</th>\n",
       "      <th>acousticness</th>\n",
       "      <th>instrumentalness</th>\n",
       "      <th>liveness</th>\n",
       "      <th>valence</th>\n",
       "      <th>tempo</th>\n",
       "      <th>time_signature</th>\n",
       "    </tr>\n",
       "  </thead>\n",
       "  <tbody>\n",
       "    <tr>\n",
       "      <th>count</th>\n",
       "      <td>586672.000000</td>\n",
       "      <td>5.866720e+05</td>\n",
       "      <td>586672.000000</td>\n",
       "      <td>586672.000000</td>\n",
       "      <td>586672.000000</td>\n",
       "      <td>586672.000000</td>\n",
       "      <td>586672.000000</td>\n",
       "      <td>586672.000000</td>\n",
       "      <td>586672.000000</td>\n",
       "      <td>586672.000000</td>\n",
       "      <td>586672.000000</td>\n",
       "      <td>586672.000000</td>\n",
       "      <td>586672.000000</td>\n",
       "      <td>586672.000000</td>\n",
       "      <td>586672.000000</td>\n",
       "    </tr>\n",
       "    <tr>\n",
       "      <th>mean</th>\n",
       "      <td>27.570053</td>\n",
       "      <td>2.300512e+05</td>\n",
       "      <td>0.044086</td>\n",
       "      <td>0.563594</td>\n",
       "      <td>0.542036</td>\n",
       "      <td>5.221603</td>\n",
       "      <td>-10.206067</td>\n",
       "      <td>0.658797</td>\n",
       "      <td>0.104864</td>\n",
       "      <td>0.449863</td>\n",
       "      <td>0.113451</td>\n",
       "      <td>0.213935</td>\n",
       "      <td>0.552292</td>\n",
       "      <td>118.464857</td>\n",
       "      <td>3.873382</td>\n",
       "    </tr>\n",
       "    <tr>\n",
       "      <th>std</th>\n",
       "      <td>18.370642</td>\n",
       "      <td>1.265261e+05</td>\n",
       "      <td>0.205286</td>\n",
       "      <td>0.166103</td>\n",
       "      <td>0.251923</td>\n",
       "      <td>3.519423</td>\n",
       "      <td>5.089328</td>\n",
       "      <td>0.474114</td>\n",
       "      <td>0.179893</td>\n",
       "      <td>0.348837</td>\n",
       "      <td>0.266868</td>\n",
       "      <td>0.184326</td>\n",
       "      <td>0.257671</td>\n",
       "      <td>29.764108</td>\n",
       "      <td>0.473162</td>\n",
       "    </tr>\n",
       "    <tr>\n",
       "      <th>min</th>\n",
       "      <td>0.000000</td>\n",
       "      <td>3.344000e+03</td>\n",
       "      <td>0.000000</td>\n",
       "      <td>0.000000</td>\n",
       "      <td>0.000000</td>\n",
       "      <td>0.000000</td>\n",
       "      <td>-60.000000</td>\n",
       "      <td>0.000000</td>\n",
       "      <td>0.000000</td>\n",
       "      <td>0.000000</td>\n",
       "      <td>0.000000</td>\n",
       "      <td>0.000000</td>\n",
       "      <td>0.000000</td>\n",
       "      <td>0.000000</td>\n",
       "      <td>0.000000</td>\n",
       "    </tr>\n",
       "    <tr>\n",
       "      <th>25%</th>\n",
       "      <td>13.000000</td>\n",
       "      <td>1.750930e+05</td>\n",
       "      <td>0.000000</td>\n",
       "      <td>0.453000</td>\n",
       "      <td>0.343000</td>\n",
       "      <td>2.000000</td>\n",
       "      <td>-12.891000</td>\n",
       "      <td>0.000000</td>\n",
       "      <td>0.034000</td>\n",
       "      <td>0.096900</td>\n",
       "      <td>0.000000</td>\n",
       "      <td>0.098300</td>\n",
       "      <td>0.346000</td>\n",
       "      <td>95.600000</td>\n",
       "      <td>4.000000</td>\n",
       "    </tr>\n",
       "    <tr>\n",
       "      <th>50%</th>\n",
       "      <td>27.000000</td>\n",
       "      <td>2.148930e+05</td>\n",
       "      <td>0.000000</td>\n",
       "      <td>0.577000</td>\n",
       "      <td>0.549000</td>\n",
       "      <td>5.000000</td>\n",
       "      <td>-9.243000</td>\n",
       "      <td>1.000000</td>\n",
       "      <td>0.044300</td>\n",
       "      <td>0.422000</td>\n",
       "      <td>0.000024</td>\n",
       "      <td>0.139000</td>\n",
       "      <td>0.564000</td>\n",
       "      <td>117.384000</td>\n",
       "      <td>4.000000</td>\n",
       "    </tr>\n",
       "    <tr>\n",
       "      <th>75%</th>\n",
       "      <td>41.000000</td>\n",
       "      <td>2.638670e+05</td>\n",
       "      <td>0.000000</td>\n",
       "      <td>0.686000</td>\n",
       "      <td>0.748000</td>\n",
       "      <td>8.000000</td>\n",
       "      <td>-6.482000</td>\n",
       "      <td>1.000000</td>\n",
       "      <td>0.076300</td>\n",
       "      <td>0.785000</td>\n",
       "      <td>0.009550</td>\n",
       "      <td>0.278000</td>\n",
       "      <td>0.769000</td>\n",
       "      <td>136.321000</td>\n",
       "      <td>4.000000</td>\n",
       "    </tr>\n",
       "    <tr>\n",
       "      <th>max</th>\n",
       "      <td>100.000000</td>\n",
       "      <td>5.621218e+06</td>\n",
       "      <td>1.000000</td>\n",
       "      <td>0.991000</td>\n",
       "      <td>1.000000</td>\n",
       "      <td>11.000000</td>\n",
       "      <td>5.376000</td>\n",
       "      <td>1.000000</td>\n",
       "      <td>0.971000</td>\n",
       "      <td>0.996000</td>\n",
       "      <td>1.000000</td>\n",
       "      <td>1.000000</td>\n",
       "      <td>1.000000</td>\n",
       "      <td>246.381000</td>\n",
       "      <td>5.000000</td>\n",
       "    </tr>\n",
       "  </tbody>\n",
       "</table>\n",
       "</div>"
      ],
      "text/plain": [
       "          popularity   duration_ms       explicit   danceability  \\\n",
       "count  586672.000000  5.866720e+05  586672.000000  586672.000000   \n",
       "mean       27.570053  2.300512e+05       0.044086       0.563594   \n",
       "std        18.370642  1.265261e+05       0.205286       0.166103   \n",
       "min         0.000000  3.344000e+03       0.000000       0.000000   \n",
       "25%        13.000000  1.750930e+05       0.000000       0.453000   \n",
       "50%        27.000000  2.148930e+05       0.000000       0.577000   \n",
       "75%        41.000000  2.638670e+05       0.000000       0.686000   \n",
       "max       100.000000  5.621218e+06       1.000000       0.991000   \n",
       "\n",
       "              energy            key       loudness           mode  \\\n",
       "count  586672.000000  586672.000000  586672.000000  586672.000000   \n",
       "mean        0.542036       5.221603     -10.206067       0.658797   \n",
       "std         0.251923       3.519423       5.089328       0.474114   \n",
       "min         0.000000       0.000000     -60.000000       0.000000   \n",
       "25%         0.343000       2.000000     -12.891000       0.000000   \n",
       "50%         0.549000       5.000000      -9.243000       1.000000   \n",
       "75%         0.748000       8.000000      -6.482000       1.000000   \n",
       "max         1.000000      11.000000       5.376000       1.000000   \n",
       "\n",
       "         speechiness   acousticness  instrumentalness       liveness  \\\n",
       "count  586672.000000  586672.000000     586672.000000  586672.000000   \n",
       "mean        0.104864       0.449863          0.113451       0.213935   \n",
       "std         0.179893       0.348837          0.266868       0.184326   \n",
       "min         0.000000       0.000000          0.000000       0.000000   \n",
       "25%         0.034000       0.096900          0.000000       0.098300   \n",
       "50%         0.044300       0.422000          0.000024       0.139000   \n",
       "75%         0.076300       0.785000          0.009550       0.278000   \n",
       "max         0.971000       0.996000          1.000000       1.000000   \n",
       "\n",
       "             valence          tempo  time_signature  \n",
       "count  586672.000000  586672.000000   586672.000000  \n",
       "mean        0.552292     118.464857        3.873382  \n",
       "std         0.257671      29.764108        0.473162  \n",
       "min         0.000000       0.000000        0.000000  \n",
       "25%         0.346000      95.600000        4.000000  \n",
       "50%         0.564000     117.384000        4.000000  \n",
       "75%         0.769000     136.321000        4.000000  \n",
       "max         1.000000     246.381000        5.000000  "
      ]
     },
     "execution_count": 4,
     "metadata": {},
     "output_type": "execute_result"
    }
   ],
   "source": [
    "tracks_data.describe()"
   ]
  },
  {
   "cell_type": "code",
   "execution_count": 5,
   "id": "6696e93b",
   "metadata": {},
   "outputs": [
    {
     "data": {
      "text/plain": [
       "array([[<AxesSubplot:title={'center':'popularity'}>,\n",
       "        <AxesSubplot:title={'center':'duration_ms'}>,\n",
       "        <AxesSubplot:title={'center':'explicit'}>,\n",
       "        <AxesSubplot:title={'center':'danceability'}>],\n",
       "       [<AxesSubplot:title={'center':'energy'}>,\n",
       "        <AxesSubplot:title={'center':'key'}>,\n",
       "        <AxesSubplot:title={'center':'loudness'}>,\n",
       "        <AxesSubplot:title={'center':'mode'}>],\n",
       "       [<AxesSubplot:title={'center':'speechiness'}>,\n",
       "        <AxesSubplot:title={'center':'acousticness'}>,\n",
       "        <AxesSubplot:title={'center':'instrumentalness'}>,\n",
       "        <AxesSubplot:title={'center':'liveness'}>],\n",
       "       [<AxesSubplot:title={'center':'valence'}>,\n",
       "        <AxesSubplot:title={'center':'tempo'}>,\n",
       "        <AxesSubplot:title={'center':'time_signature'}>, <AxesSubplot:>]],\n",
       "      dtype=object)"
      ]
     },
     "execution_count": 5,
     "metadata": {},
     "output_type": "execute_result"
    },
    {
     "data": {
      "image/png": "[encoded data removed]",
      "text/plain": [
       "<Figure size 1440x1080 with 16 Axes>"
      ]
     },
     "metadata": {
      "needs_background": "light"
     },
     "output_type": "display_data"
    }
   ],
   "source": [
    "tracks_data.hist(bins=50, figsize=(20,15))"
   ]
  },
  {
   "cell_type": "code",
   "execution_count": 6,
   "id": "de2b891a",
   "metadata": {},
   "outputs": [
    {
     "data": {
      "text/plain": [
       "0                                 ['Uli']\n",
       "1                     ['Fernando Pessoa']\n",
       "2                     ['Ignacio Corsini']\n",
       "3                     ['Ignacio Corsini']\n",
       "4                         ['Dick Haymes']\n",
       "                       ...               \n",
       "586667                        ['阿YueYue']\n",
       "586668                     ['ROLE MODEL']\n",
       "586669                        ['FINNEAS']\n",
       "586670    ['Gentle Bones', 'Clara Benin']\n",
       "586671                      ['Afrosound']\n",
       "Name: artists, Length: 586672, dtype: object"
      ]
     },
     "execution_count": 6,
     "metadata": {},
     "output_type": "execute_result"
    }
   ],
   "source": [
    "tracks_data['artists']"
   ]
  },
  {
   "cell_type": "code",
   "execution_count": 7,
   "id": "6e4b52b5",
   "metadata": {},
   "outputs": [],
   "source": [
    "unique, counts = np.unique(tracks_data['artists'], return_counts=True)"
   ]
  },
  {
   "cell_type": "code",
   "execution_count": 8,
   "id": "d74ccc78",
   "metadata": {},
   "outputs": [],
   "source": [
    "tracks = tracks_data.to_numpy()"
   ]
  },
  {
   "cell_type": "code",
   "execution_count": 9,
   "id": "ee7f7caf",
   "metadata": {},
   "outputs": [
    {
     "name": "stdout",
     "output_type": "stream",
     "text": [
      "(586672, 20)\n"
     ]
    }
   ],
   "source": [
    "m = tracks.shape\n",
    "print(m)"
   ]
  },
  {
   "cell_type": "code",
   "execution_count": 10,
   "id": "9b07337f",
   "metadata": {},
   "outputs": [],
   "source": [
    "track_column = tracks.T\n",
    "track_column_new = track_column.copy()\n",
    "for i in range(m[1]):\n",
    "    if(i == 2 or i==3 or i==8 or i==9 or i==11 or i==13 or i==14 or i==15 or i==16 or i==17 or i==18):\n",
    "        mins = track_column[i].min()\n",
    "        maxs = track_column[i].max()\n",
    "        track_column_new[i] = (track_column[i] - mins)/(maxs-mins)"
   ]
  },
  {
   "cell_type": "code",
   "execution_count": null,
   "id": "122bb92c",
   "metadata": {},
   "outputs": [],
   "source": []
  },
  {
   "cell_type": "code",
   "execution_count": null,
   "id": "a168728d",
   "metadata": {},
   "outputs": [],
   "source": []
  }
 ],
 "metadata": {
  "kernelspec": {
   "display_name": "Python 3 (ipykernel)",
   "language": "python",
   "name": "python3"
  },
  "language_info": {
   "codemirror_mode": {
    "name": "ipython",
    "version": 3
   },
   "file_extension": ".py",
   "mimetype": "text/x-python",
   "name": "python",
   "nbconvert_exporter": "python",
   "pygments_lexer": "ipython3",
   "version": "3.10.5"
  }
 },
 "nbformat": 4,
 "nbformat_minor": 5
}
